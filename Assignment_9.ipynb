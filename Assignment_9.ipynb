{
 "cells": [
  {
   "cell_type": "code",
   "execution_count": null,
   "id": "77df8161",
   "metadata": {},
   "outputs": [],
   "source": [
    "1. To what does a relative path refer?\n",
    " Ans:relative paths are relative to the current working directory.\n",
    "\n"
   ]
  },
  {
   "cell_type": "code",
   "execution_count": null,
   "id": "e6e8e15e",
   "metadata": {},
   "outputs": [],
   "source": [
    "2. What does an absolute path start with your operating system?\n",
    "Ans:Absolute path starts with the root folder,such/ or c:\\"
   ]
  },
  {
   "cell_type": "code",
   "execution_count": null,
   "id": "71dfa9d6",
   "metadata": {},
   "outputs": [],
   "source": [
    "3. What do the functions os.getcwd() and os.chdir() do?\n",
    "Ans:os.getcwd() returns current working directory.The os.chdir() will changes the current working directory."
   ]
  },
  {
   "cell_type": "code",
   "execution_count": null,
   "id": "73edf127",
   "metadata": {},
   "outputs": [],
   "source": [
    "4. What are the . and .. folders?\n",
    "The .folder is current folder and ..is the parent folder"
   ]
  },
  {
   "cell_type": "code",
   "execution_count": null,
   "id": "9245b41f",
   "metadata": {},
   "outputs": [],
   "source": [
    "5. In C:\\bacon\\eggs\\spam.txt, which part is the dir name, and which part is the base name?\n",
    "    C:\\bacon\\eggs is the dir name,while spam.txt is the base name.\n"
   ]
  },
  {
   "cell_type": "code",
   "execution_count": null,
   "id": "006aab2d",
   "metadata": {},
   "outputs": [],
   "source": [
    "6. What are the three “mode” arguments that can be passed to the open() function?\n",
    "\"r\" for read mode\n",
    "\"w\" for write mode\n",
    "\"a\" for append mode"
   ]
  },
  {
   "cell_type": "code",
   "execution_count": null,
   "id": "a71fde7d",
   "metadata": {},
   "outputs": [],
   "source": [
    "7. What happens if an existing file is opened in write mode?\n",
    "An existing file opened in write mode is erased and completely overwritten."
   ]
  },
  {
   "cell_type": "code",
   "execution_count": null,
   "id": "fe2c79d4",
   "metadata": {},
   "outputs": [],
   "source": [
    "8. How do you tell the difference between read() and readlines()?\n",
    "read() methode returns file's entire contents as a single string value.\n",
    "The readlines() method returns a list of sstrings,where each string is a line from the file's content."
   ]
  },
  {
   "cell_type": "code",
   "execution_count": null,
   "id": "c389e2d0",
   "metadata": {},
   "outputs": [],
   "source": [
    "9. What data structure does a shelf value resemble?\n",
    "A shelf value resembles a dictionary value.It has keys and values,along with keys() and values()method that work similarly to the dictionary methods of  the same names."
   ]
  },
  {
   "cell_type": "code",
   "execution_count": null,
   "id": "8ccfca4f",
   "metadata": {},
   "outputs": [],
   "source": []
  }
 ],
 "metadata": {
  "kernelspec": {
   "display_name": "Python 3 (ipykernel)",
   "language": "python",
   "name": "python3"
  },
  "language_info": {
   "codemirror_mode": {
    "name": "ipython",
    "version": 3
   },
   "file_extension": ".py",
   "mimetype": "text/x-python",
   "name": "python",
   "nbconvert_exporter": "python",
   "pygments_lexer": "ipython3",
   "version": "3.9.12"
  }
 },
 "nbformat": 4,
 "nbformat_minor": 5
}
