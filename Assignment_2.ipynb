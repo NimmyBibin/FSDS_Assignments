{
 "cells": [
  {
   "cell_type": "raw",
   "id": "7b5acc6d",
   "metadata": {},
   "source": [
    "1.What are the two values of boolean data type?How do you write them?"
   ]
  },
  {
   "cell_type": "markdown",
   "id": "a4c3b49a",
   "metadata": {},
   "source": [
    "The two values of Boolean datatype are True and False.\n",
    "Boolen logic can be formulated with the help of logical operators.\n",
    "==,!=,<,<=,>,>= are used to compare two values in python programming."
   ]
  },
  {
   "cell_type": "code",
   "execution_count": null,
   "id": "5f6ea675",
   "metadata": {},
   "outputs": [],
   "source": [
    "2.What are the three different types of Boolean operators?"
   ]
  },
  {
   "cell_type": "code",
   "execution_count": null,
   "id": "444f3d28",
   "metadata": {},
   "outputs": [],
   "source": [
    "AND,OR and NOT  are the three logical operators which are used to compare the vales"
   ]
  },
  {
   "cell_type": "raw",
   "id": "da3467ce",
   "metadata": {},
   "source": [
    "3. Make a list of each Boolean operator's truth tables (i.e. every possible combination of Boolean values for the operator and what it evaluate )."
   ]
  },
  {
   "cell_type": "code",
   "execution_count": null,
   "id": "ff32820b",
   "metadata": {},
   "outputs": [],
   "source": [
    "X       Y        X AND Y    X OR Y   NOT X  NOT Y\n",
    "TRUE   TRUE       TRUE       TRUE    FALSE  FALSE\n",
    "FALSE  TRUE       FALSE      TRUE    TRUE   FALSE\n",
    "TRUE   FALSE      FALSE      TRUE    FALSE  TRUE\n",
    "FALSE  FALSE      FALSE     FALSE    TRUE   TRUE\n",
    "\n"
   ]
  },
  {
   "cell_type": "code",
   "execution_count": null,
   "id": "98d8c861",
   "metadata": {},
   "outputs": [],
   "source": [
    "4. What are the values of the following expressions?\n"
   ]
  },
  {
   "cell_type": "code",
   "execution_count": 4,
   "id": "67d3ed78",
   "metadata": {},
   "outputs": [
    {
     "data": {
      "text/plain": [
       "False"
      ]
     },
     "execution_count": 4,
     "metadata": {},
     "output_type": "execute_result"
    }
   ],
   "source": [
    "(5 > 4) and (3 == 5)\n",
    "#true AND false= false"
   ]
  },
  {
   "cell_type": "code",
   "execution_count": 3,
   "id": "1200abbd",
   "metadata": {},
   "outputs": [
    {
     "data": {
      "text/plain": [
       "False"
      ]
     },
     "execution_count": 3,
     "metadata": {},
     "output_type": "execute_result"
    }
   ],
   "source": [
    "not (5 > 4)\n",
    "#NOT(TRUE)=False"
   ]
  },
  {
   "cell_type": "code",
   "execution_count": 2,
   "id": "ee7d1e45",
   "metadata": {},
   "outputs": [
    {
     "data": {
      "text/plain": [
       "True"
      ]
     },
     "execution_count": 2,
     "metadata": {},
     "output_type": "execute_result"
    }
   ],
   "source": [
    "(5 > 4) or (3 == 5)\n",
    "#TRUE OR FALSE=TRUE"
   ]
  },
  {
   "cell_type": "code",
   "execution_count": 5,
   "id": "ac9c742b",
   "metadata": {},
   "outputs": [
    {
     "data": {
      "text/plain": [
       "False"
      ]
     },
     "execution_count": 5,
     "metadata": {},
     "output_type": "execute_result"
    }
   ],
   "source": [
    "not ((5 > 4) or (3 == 5))\n",
    "#NOT true OR false\n",
    "#NOT true\n",
    "#false"
   ]
  },
  {
   "cell_type": "code",
   "execution_count": 6,
   "id": "30812d47",
   "metadata": {},
   "outputs": [
    {
     "data": {
      "text/plain": [
       "False"
      ]
     },
     "execution_count": 6,
     "metadata": {},
     "output_type": "execute_result"
    }
   ],
   "source": [
    "(True and True) and (True == False)\n",
    "#true AND false\n"
   ]
  },
  {
   "cell_type": "code",
   "execution_count": 7,
   "id": "97b55b86",
   "metadata": {},
   "outputs": [
    {
     "data": {
      "text/plain": [
       "True"
      ]
     },
     "execution_count": 7,
     "metadata": {},
     "output_type": "execute_result"
    }
   ],
   "source": [
    "(not False) or (not True)\n",
    "#true OR false"
   ]
  },
  {
   "cell_type": "code",
   "execution_count": null,
   "id": "0788d0de",
   "metadata": {},
   "outputs": [],
   "source": [
    "5. What are the six comparison operators?"
   ]
  },
  {
   "cell_type": "code",
   "execution_count": null,
   "id": "55dc7ef6",
   "metadata": {},
   "outputs": [],
   "source": [
    "less than(<)\n",
    "less than or equal to(<=)\n",
    "Greater than(>)\n",
    "Greater than or equal to(>=)\n",
    "Equal to (==)\n",
    "Not equal t0(!=)"
   ]
  },
  {
   "cell_type": "raw",
   "id": "bc0c334a",
   "metadata": {},
   "source": [
    "6. How do you tell the difference between the equal to and assignment operators?\n",
    "Describe a condition and when you would use one."
   ]
  },
  {
   "cell_type": "code",
   "execution_count": null,
   "id": "915134c9",
   "metadata": {},
   "outputs": [],
   "source": [
    "= is an assignment operator,it is used to assign values to the variables\n",
    "== is equal operator and is used to comparing two values.return 1 if both values are equal otherwise return 0"
   ]
  },
  {
   "cell_type": "code",
   "execution_count": null,
   "id": "2d7fc029",
   "metadata": {},
   "outputs": [],
   "source": [
    "7. Identify the three blocks in this code:\n",
    "spam = 0\n",
    "if spam == 10:\n",
    "print('eggs')\n",
    "if spam > 5:\n",
    "print('bacon')\n",
    "else:\n",
    "print('ham')\n",
    "print('spam')\n",
    "print('spam')\n"
   ]
  },
  {
   "cell_type": "code",
   "execution_count": null,
   "id": "55538f74",
   "metadata": {},
   "outputs": [],
   "source": [
    "1.if spam == 10:\n",
    "print('eggs')\n",
    "2.if spam > 5:\n",
    "print('bacon')\n",
    "3.else:\n",
    "    print('spam')"
   ]
  },
  {
   "cell_type": "raw",
   "id": "ccefd9e6",
   "metadata": {},
   "source": [
    "8. Write code that prints Hello if 1 is stored in spam, prints Howdy if 2 is stored in spam, and prints Greetings! if anything else is stored in spam."
   ]
  },
  {
   "cell_type": "code",
   "execution_count": 18,
   "id": "7675ce74",
   "metadata": {},
   "outputs": [
    {
     "name": "stdout",
     "output_type": "stream",
     "text": [
      "Howdy\n"
     ]
    }
   ],
   "source": [
    "spam=2\n",
    "\n",
    "if spam==1:\n",
    "    print(\"Hello\")\n",
    "elif spam==2:\n",
    "     print(\"Howdy\")\n",
    "else:\n",
    "    print(\"Greetings!\")\n"
   ]
  },
  {
   "cell_type": "code",
   "execution_count": null,
   "id": "958da890",
   "metadata": {},
   "outputs": [],
   "source": [
    "9.If your programme is stuck in an endless loop, what keys you’ll press?\n",
    "CTRL+C"
   ]
  },
  {
   "cell_type": "code",
   "execution_count": null,
   "id": "c8b97120",
   "metadata": {},
   "outputs": [],
   "source": [
    "10. How can you tell the difference between break and continue?\n"
   ]
  },
  {
   "cell_type": "code",
   "execution_count": null,
   "id": "2c012a4f",
   "metadata": {},
   "outputs": [],
   "source": [
    "BREAK-statement terminate the execution of current loop\n",
    "CONTINUE-statement skip the current iteration and execute the next iteration of the loop."
   ]
  },
  {
   "cell_type": "code",
   "execution_count": null,
   "id": "a1b13018",
   "metadata": {},
   "outputs": [],
   "source": [
    "11. In a for loop, what is the difference between range(10), range(0, 10), and range(0, 10, 1)?\n"
   ]
  },
  {
   "cell_type": "code",
   "execution_count": 8,
   "id": "17587b11",
   "metadata": {},
   "outputs": [
    {
     "name": "stdout",
     "output_type": "stream",
     "text": [
      "0\n",
      "1\n",
      "2\n",
      "3\n",
      "4\n",
      "5\n",
      "6\n",
      "7\n",
      "8\n",
      "9\n"
     ]
    }
   ],
   "source": [
    "for i in range(10):\n",
    "    print(i)"
   ]
  },
  {
   "cell_type": "code",
   "execution_count": 9,
   "id": "889ec223",
   "metadata": {},
   "outputs": [],
   "source": [
    "#range(10) will print numbers from 0-9 "
   ]
  },
  {
   "cell_type": "code",
   "execution_count": 6,
   "id": "0cd9ed84",
   "metadata": {},
   "outputs": [
    {
     "name": "stdout",
     "output_type": "stream",
     "text": [
      "0\n",
      "1\n",
      "2\n",
      "3\n",
      "4\n",
      "5\n",
      "6\n",
      "7\n",
      "8\n",
      "9\n"
     ]
    }
   ],
   "source": [
    "for i in range(0,10):\n",
    "    print(i)"
   ]
  },
  {
   "cell_type": "code",
   "execution_count": 4,
   "id": "89df189a",
   "metadata": {},
   "outputs": [],
   "source": [
    "#range(0, 10)here initial value is 0 and end value is 10"
   ]
  },
  {
   "cell_type": "code",
   "execution_count": 7,
   "id": "67778a17",
   "metadata": {},
   "outputs": [
    {
     "name": "stdout",
     "output_type": "stream",
     "text": [
      "0\n",
      "1\n",
      "2\n",
      "3\n",
      "4\n",
      "5\n",
      "6\n",
      "7\n",
      "8\n",
      "9\n"
     ]
    }
   ],
   "source": [
    "for i in range(0,10,1):\n",
    "    print(i)"
   ]
  },
  {
   "cell_type": "code",
   "execution_count": null,
   "id": "568b0c3d",
   "metadata": {},
   "outputs": [],
   "source": [
    "#range(0,10,1) here initial value final value and step size is also given as 1"
   ]
  },
  {
   "cell_type": "raw",
   "id": "48b6e429",
   "metadata": {},
   "source": [
    "12. Write a short program that prints the numbers 1 to 10 using a for loop. Then write an equivalent program that prints the numbers 1 to 10 using a while loop.\n"
   ]
  },
  {
   "cell_type": "code",
   "execution_count": 10,
   "id": "62655f24",
   "metadata": {},
   "outputs": [
    {
     "name": "stdout",
     "output_type": "stream",
     "text": [
      "1\n",
      "2\n",
      "3\n",
      "4\n",
      "5\n",
      "6\n",
      "7\n",
      "8\n",
      "9\n",
      "10\n"
     ]
    }
   ],
   "source": [
    "for i in range(1,11):\n",
    "    print (i)"
   ]
  },
  {
   "cell_type": "code",
   "execution_count": 12,
   "id": "c824360c",
   "metadata": {},
   "outputs": [
    {
     "name": "stdout",
     "output_type": "stream",
     "text": [
      "1\n",
      "2\n",
      "3\n",
      "4\n",
      "5\n",
      "6\n",
      "7\n",
      "8\n",
      "9\n",
      "10\n"
     ]
    }
   ],
   "source": [
    "i=0\n",
    "while i<10:\n",
    "    i+=1\n",
    "    print(i)"
   ]
  },
  {
   "cell_type": "code",
   "execution_count": null,
   "id": "ad19b65b",
   "metadata": {},
   "outputs": [],
   "source": [
    "13. If you had a function named bacon() inside a module named spam, how would you call it after importing spam?\n",
    "import spam\n",
    "spam.bacon()"
   ]
  }
 ],
 "metadata": {
  "kernelspec": {
   "display_name": "Python 3 (ipykernel)",
   "language": "python",
   "name": "python3"
  },
  "language_info": {
   "codemirror_mode": {
    "name": "ipython",
    "version": 3
   },
   "file_extension": ".py",
   "mimetype": "text/x-python",
   "name": "python",
   "nbconvert_exporter": "python",
   "pygments_lexer": "ipython3",
   "version": "3.9.12"
  }
 },
 "nbformat": 4,
 "nbformat_minor": 5
}
