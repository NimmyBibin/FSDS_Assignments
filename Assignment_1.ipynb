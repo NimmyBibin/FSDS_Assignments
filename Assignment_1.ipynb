{
 "cells": [
  {
   "cell_type": "raw",
   "id": "7e2ec76c",
   "metadata": {},
   "source": [
    "1, In the below elements which of them are values or expression?-expression\n",
    "\n",
    "*      -expression\n",
    "\"hello\"-value\n",
    "-87.8  -values\n",
    "-       expression\n",
    "/      -expression\n",
    "+      -expression\n",
    "6      -Values\n",
    "\n",
    "\n",
    "\n",
    "\n"
   ]
  },
  {
   "cell_type": "raw",
   "id": "f2f04aed",
   "metadata": {},
   "source": [
    "2,what is difference betwwen string and variables?\n",
    " \n",
    " strings-are type of data  where as \n",
    " variables- are parameter/symbols which are used to store data\n",
    " "
   ]
  },
  {
   "cell_type": "raw",
   "id": "eb5f22e7",
   "metadata": {},
   "source": [
    "3. Describe three different datatypes\n",
    "string\n",
    "ineger\n",
    "float\n",
    "bool\n"
   ]
  },
  {
   "cell_type": "raw",
   "id": "009af501",
   "metadata": {},
   "source": [
    "\n",
    "4.What is an expression made up of? what do all expression do\n",
    " An expression made up of a combination of operators and operands to give some other values eg.Arithmetic Expressions\n",
    " (X+Y=Z addition operation),Logical Expression(eg:X OR Y)\n",
    " \n",
    " \n"
   ]
  },
  {
   "cell_type": "raw",
   "id": "066f706d",
   "metadata": {},
   "source": [
    "5. What is the difference between expression and statement?\n",
    "expression-is a combination of operators and operands to get another value where as a statement is the instructions to execute a programm\n",
    "for example declaration statement spam=10, control statements(continue statement,break statement,pass statement)"
   ]
  },
  {
   "cell_type": "raw",
   "id": "f8c87734",
   "metadata": {},
   "source": [
    "6.variable bacon  contain value 23 after executing the following programme."
   ]
  },
  {
   "cell_type": "code",
   "execution_count": 1,
   "id": "bc98dbb7",
   "metadata": {},
   "outputs": [
    {
     "data": {
      "text/plain": [
       "23"
      ]
     },
     "execution_count": 1,
     "metadata": {},
     "output_type": "execute_result"
    }
   ],
   "source": [
    "bacon=22\n",
    "bacon+1"
   ]
  },
  {
   "cell_type": "raw",
   "id": "6297afda",
   "metadata": {},
   "source": [
    "7."
   ]
  },
  {
   "cell_type": "code",
   "execution_count": 4,
   "id": "bf295c35",
   "metadata": {},
   "outputs": [
    {
     "data": {
      "text/plain": [
       "'spamspamspam'"
      ]
     },
     "execution_count": 4,
     "metadata": {},
     "output_type": "execute_result"
    }
   ],
   "source": [
    "\"spam\"+\"spamspam\""
   ]
  },
  {
   "cell_type": "code",
   "execution_count": 5,
   "id": "924c14b0",
   "metadata": {},
   "outputs": [
    {
     "data": {
      "text/plain": [
       "'spamspamspam'"
      ]
     },
     "execution_count": 5,
     "metadata": {},
     "output_type": "execute_result"
    }
   ],
   "source": [
    "\"spam\"*3"
   ]
  },
  {
   "cell_type": "raw",
   "id": "0de6370f",
   "metadata": {},
   "source": [
    "8. Why Eggs is a valied variable name whereas 100 is invalid?\n",
    "According to python variable naming rule it should start with a charachter or _,cannot start with a number\n",
    "Therefore, Egg is valid but 100 is invalid\n"
   ]
  },
  {
   "cell_type": "raw",
   "id": "e63ad035",
   "metadata": {},
   "source": [
    "9.What 3 functions can be used to get integer,floating number,string\n",
    "to get ineger- int()\n",
    "to get floating number- float()\n",
    "to get string-str()"
   ]
  },
  {
   "cell_type": "raw",
   "id": "e50760d6",
   "metadata": {},
   "source": [
    "10. why does this expression cause an error?how to fix it\n"
   ]
  },
  {
   "cell_type": "code",
   "execution_count": 6,
   "id": "a07b69d1",
   "metadata": {},
   "outputs": [
    {
     "ename": "TypeError",
     "evalue": "can only concatenate str (not \"int\") to str",
     "output_type": "error",
     "traceback": [
      "\u001b[1;31m---------------------------------------------------------------------------\u001b[0m",
      "\u001b[1;31mTypeError\u001b[0m                                 Traceback (most recent call last)",
      "Input \u001b[1;32mIn [6]\u001b[0m, in \u001b[0;36m<cell line: 1>\u001b[1;34m()\u001b[0m\n\u001b[1;32m----> 1\u001b[0m \u001b[38;5;124;43m\"\u001b[39;49m\u001b[38;5;124;43mI Have eaten\u001b[39;49m\u001b[38;5;124;43m\"\u001b[39;49m\u001b[38;5;241;43m+\u001b[39;49m\u001b[38;5;241;43m99\u001b[39;49m\u001b[38;5;241m+\u001b[39m\u001b[38;5;124m\"\u001b[39m\u001b[38;5;124mburritos\u001b[39m\u001b[38;5;124m\"\u001b[39m\n",
      "\u001b[1;31mTypeError\u001b[0m: can only concatenate str (not \"int\") to str"
     ]
    }
   ],
   "source": [
    "\"I Have eaten\"+99+\"burritos\""
   ]
  },
  {
   "cell_type": "raw",
   "id": "8a13ba42",
   "metadata": {},
   "source": [
    "reason:Here we are concatenating 2 different datatypes 99 is an int datatype other two are str data type. to make 99 to str by keeping 99 inside \"\".\n"
   ]
  },
  {
   "cell_type": "code",
   "execution_count": 7,
   "id": "6af0c3d1",
   "metadata": {},
   "outputs": [
    {
     "data": {
      "text/plain": [
       "'I Have eaten99burritos'"
      ]
     },
     "execution_count": 7,
     "metadata": {},
     "output_type": "execute_result"
    }
   ],
   "source": [
    "\"I Have eaten\"+\"99\"+\"burritos\""
   ]
  },
  {
   "cell_type": "code",
   "execution_count": null,
   "id": "dbd6a469",
   "metadata": {},
   "outputs": [],
   "source": []
  }
 ],
 "metadata": {
  "kernelspec": {
   "display_name": "Python 3 (ipykernel)",
   "language": "python",
   "name": "python3"
  },
  "language_info": {
   "codemirror_mode": {
    "name": "ipython",
    "version": 3
   },
   "file_extension": ".py",
   "mimetype": "text/x-python",
   "name": "python",
   "nbconvert_exporter": "python",
   "pygments_lexer": "ipython3",
   "version": "3.9.12"
  }
 },
 "nbformat": 4,
 "nbformat_minor": 5
}
