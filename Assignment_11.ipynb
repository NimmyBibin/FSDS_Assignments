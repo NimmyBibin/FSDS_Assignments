{
 "cells": [
  {
   "cell_type": "code",
   "execution_count": null,
   "id": "062d4eec",
   "metadata": {},
   "outputs": [],
   "source": [
    "1. Create an assert statement that throws an AssertionError if the variable spam is a negative integer.\n",
    "Ans: assert spam<0,' the spam variable is negative'"
   ]
  },
  {
   "cell_type": "raw",
   "id": "55acd7a4",
   "metadata": {},
   "source": [
    "2. Write an assert statement that triggers an AssertionError if the variables eggs and bacon contain strings that are the same as each other, even if their cases are different (that is, 'hello' and 'hello' are considered the same, and 'goodbye' and 'GOODbye' are also considered the same).\n"
   ]
  },
  {
   "cell_type": "code",
   "execution_count": null,
   "id": "5735dd93",
   "metadata": {},
   "outputs": [],
   "source": [
    "Ans:assert eggs.lower()!=bacon.lower()\n",
    "    or\n",
    "    assert eggs.upper()!=bacon.upper()"
   ]
  },
  {
   "cell_type": "code",
   "execution_count": null,
   "id": "e391bf10",
   "metadata": {},
   "outputs": [],
   "source": [
    "3. Create an assert statement that throws an AssertionError every time.\n",
    "Ans: assert False,'This assertion always triggers'"
   ]
  },
  {
   "cell_type": "code",
   "execution_count": null,
   "id": "d0c8dce5",
   "metadata": {},
   "outputs": [],
   "source": [
    "4. What are the two lines that must be present in your software in order to call logging.debug()?\n",
    "Ans:import logging\n",
    "    logging.basicConfig(level=logging.DEBUG,FORMAT=\"%(asctime)s-%(levelname)s-%(message)s\")"
   ]
  },
  {
   "cell_type": "raw",
   "id": "a5c3b029",
   "metadata": {},
   "source": [
    "5. What are the two lines that your program must have in order to have logging.debug() send a logging message to a file named programLog.txt?"
   ]
  },
  {
   "cell_type": "code",
   "execution_count": null,
   "id": "c03b6d10",
   "metadata": {},
   "outputs": [],
   "source": [
    "Ans:To be able to send logging messages to a file named programLog.txt with logging.debug() we must have these two lines at the start\n",
    "    import logging\n",
    "    logging.basicConfig(filename=\"programLog.txt\",level=logging.DEBUG,FORMAT=\"%(asctime)s-%(levelname)s-%(message)s\")"
   ]
  },
  {
   "cell_type": "code",
   "execution_count": null,
   "id": "3162b7a3",
   "metadata": {},
   "outputs": [],
   "source": [
    "6. What are the five levels of logging?\n",
    "DEBUG,INFO,WARNING,ERROR and CRITICAL"
   ]
  },
  {
   "cell_type": "code",
   "execution_count": null,
   "id": "9258f756",
   "metadata": {},
   "outputs": [],
   "source": [
    "7. What line of code would you add to your software to disable all logging messages?"
   ]
  },
  {
   "cell_type": "code",
   "execution_count": null,
   "id": "a10dfae6",
   "metadata": {},
   "outputs": [],
   "source": [
    "ans:logging.disable(logging.CRITICAL)"
   ]
  },
  {
   "cell_type": "raw",
   "id": "0baf32e3",
   "metadata": {},
   "source": [
    "8.Why is using logging messages better than using print() to display the same message?\n",
    "Ans: we can disable logging messages without removing the logging function calls.we can selectively disable lower-level logging messages.Logging messages provides a timestrap"
   ]
  },
  {
   "cell_type": "raw",
   "id": "5375621e",
   "metadata": {},
   "source": [
    "  9. What are the differences between the Step Over, Step In, and Step Out buttons  in the debugger?\n",
    "Ans: step button will move the debugger into a function call.\n",
    "    step over: will enable only after the debugging is started with step into/Run from Step/Run to step.Step over is used for debugging the test steps line by line,but when procedure is called,the entire procedure call will be executed as a single step\n",
    "    Step into:step into is used for debugging the test steps line by line.when procedure gets called,step into enables you to get inside the procedur and debug the procedure steps line by line.\n",
    "    Step out:step out will enable,only after the debugging cursor gets inside a procedure.The cursor will get inside a procedure only when the test is debugged with step into"
   ]
  },
  {
   "cell_type": "code",
   "execution_count": null,
   "id": "b1ac8e52",
   "metadata": {},
   "outputs": [],
   "source": [
    "10.After you click Continue, when will the debugger stop ?\n",
    "Ans:After we click ,the debugger will stop when it has reached the end of the program or a line with a breakpoint."
   ]
  },
  {
   "cell_type": "code",
   "execution_count": null,
   "id": "66d0c359",
   "metadata": {},
   "outputs": [],
   "source": [
    "11. What is the concept of a breakpoint?\n",
    "Ans: A breakpoint is a setting on a line of code that causes the debugger to pause when the program execution reaches the line."
   ]
  }
 ],
 "metadata": {
  "kernelspec": {
   "display_name": "Python 3 (ipykernel)",
   "language": "python",
   "name": "python3"
  },
  "language_info": {
   "codemirror_mode": {
    "name": "ipython",
    "version": 3
   },
   "file_extension": ".py",
   "mimetype": "text/x-python",
   "name": "python",
   "nbconvert_exporter": "python",
   "pygments_lexer": "ipython3",
   "version": "3.9.12"
  }
 },
 "nbformat": 4,
 "nbformat_minor": 5
}
