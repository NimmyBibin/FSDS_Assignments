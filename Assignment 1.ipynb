{
 "cells": [
  {
   "cell_type": "markdown",
   "id": "2da4bc34",
   "metadata": {},
   "source": [
    "1, In the below elements which of them are values or expression?-expression\n",
    "\n",
    "*      -expression\n",
    "\"hello\"-value\n",
    "-87.8  -values\n",
    "-       expression\n",
    "/      -expression\n",
    "+      -expression\n",
    "6      -Values\n",
    "\n",
    "\n",
    "\n",
    "\n"
   ]
  },
  {
   "cell_type": "markdown",
   "id": "38df18f8",
   "metadata": {},
   "source": [
    "2,what is difference betwwen string and variables?\n",
    " \n",
    " strings-are type of data  where as \n",
    " variables- are parameter/symbols which are used to store data\n",
    " "
   ]
  },
  {
   "cell_type": "raw",
   "id": "eb5f22e7",
   "metadata": {},
   "source": [
    "3. Describe three different datatypes\n",
    "string\n",
    "ineger\n",
    "float\n",
    "bool\n"
   ]
  },
  {
   "cell_type": "raw",
   "id": "009af501",
   "metadata": {},
   "source": [
    "\n",
    "4.What is an expression made up of? what do all expression do\n",
    " An expression made up of a combination of operators and operands to give some other values eg.Arithmetic Expressions\n",
    " (X+Y=Z addition operation),Logical Expression(eg:X OR Y)\n",
    " \n",
    " \n"
   ]
  },
  {
   "cell_type": "raw",
   "id": "2ded75a3",
   "metadata": {},
   "source": [
    "5. What is the difference between expression and statement?\n",
    "expression-is a combination of operators and operands to get another value where as a statement is the instructions to execute a programm\n",
    "for example declaration statement spam=10, control statements(continue statement,break statement,pass statement)"
   ]
  },
  {
   "cell_type": "markdown",
   "id": "ef158a8d",
   "metadata": {},
   "source": [
    "6.variable bacon  contain value 23 after executing the following programme."
   ]
  },
  {
   "cell_type": "code",
   "execution_count": 1,
   "id": "c50e2da0",
   "metadata": {},
   "outputs": [
    {
     "data": {
      "text/plain": [
       "23"
      ]
     },
     "execution_count": 1,
     "metadata": {},
     "output_type": "execute_result"
    }
   ],
   "source": [
    "bacon=22\n",
    "bacon+1"
   ]
  },
  {
   "cell_type": "raw",
   "id": "d5f82d64",
   "metadata": {},
   "source": [
    "7."
   ]
  },
  {
   "cell_type": "code",
   "execution_count": 4,
   "id": "7013872c",
   "metadata": {},
   "outputs": [
    {
     "data": {
      "text/plain": [
       "'spamspamspam'"
      ]
     },
     "execution_count": 4,
     "metadata": {},
     "output_type": "execute_result"
    }
   ],
   "source": [
    "\"spam\"+\"spamspam\""
   ]
  },
  {
   "cell_type": "code",
   "execution_count": 5,
   "id": "47d22e23",
   "metadata": {},
   "outputs": [
    {
     "data": {
      "text/plain": [
       "'spamspamspam'"
      ]
     },
     "execution_count": 5,
     "metadata": {},
     "output_type": "execute_result"
    }
   ],
   "source": [
    "\"spam\"*3"
   ]
  },
  {
   "cell_type": "raw",
   "id": "d70c2670",
   "metadata": {},
   "source": [
    "8. Why Eggs is a valied variable name whereas 100 is invalid?\n",
    "According to python variable naming rule it should start with a charachter or _,cannot start with a number\n",
    "Therefore, Egg is valid but 100 is invalid\n"
   ]
  },
  {
   "cell_type": "markdown",
   "id": "c26d01bb",
   "metadata": {},
   "source": [
    "9.What 3 functions can be used to get integer,floating number,string\n",
    "to get ineger- int()\n",
    "to get floating number- float()\n",
    "to get string-str()"
   ]
  },
  {
   "cell_type": "raw",
   "id": "8607476f",
   "metadata": {},
   "source": [
    "10. why does this expression cause an error?how to fix it\n"
   ]
  },
  {
   "cell_type": "code",
   "execution_count": 6,
   "id": "b6f9af87",
   "metadata": {},
   "outputs": [
    {
     "ename": "TypeError",
     "evalue": "can only concatenate str (not \"int\") to str",
     "output_type": "error",
     "traceback": [
      "\u001b[1;31m---------------------------------------------------------------------------\u001b[0m",
      "\u001b[1;31mTypeError\u001b[0m                                 Traceback (most recent call last)",
      "Input \u001b[1;32mIn [6]\u001b[0m, in \u001b[0;36m<cell line: 1>\u001b[1;34m()\u001b[0m\n\u001b[1;32m----> 1\u001b[0m \u001b[38;5;124;43m\"\u001b[39;49m\u001b[38;5;124;43mI Have eaten\u001b[39;49m\u001b[38;5;124;43m\"\u001b[39;49m\u001b[38;5;241;43m+\u001b[39;49m\u001b[38;5;241;43m99\u001b[39;49m\u001b[38;5;241m+\u001b[39m\u001b[38;5;124m\"\u001b[39m\u001b[38;5;124mburritos\u001b[39m\u001b[38;5;124m\"\u001b[39m\n",
      "\u001b[1;31mTypeError\u001b[0m: can only concatenate str (not \"int\") to str"
     ]
    }
   ],
   "source": [
    "\"I Have eaten\"+99+\"burritos\""
   ]
  },
  {
   "cell_type": "raw",
   "id": "a07cc9d4",
   "metadata": {},
   "source": [
    "reason:Here we are concatenating 2 different datatypes 99 is an int datatype other two are str data type. to make 99 to str by keeping 99 inside \"\".\n"
   ]
  },
  {
   "cell_type": "code",
   "execution_count": 7,
   "id": "b0422ba4",
   "metadata": {},
   "outputs": [
    {
     "data": {
      "text/plain": [
       "'I Have eaten99burritos'"
      ]
     },
     "execution_count": 7,
     "metadata": {},
     "output_type": "execute_result"
    }
   ],
   "source": [
    "\"I Have eaten\"+\"99\"+\"burritos\""
   ]
  },
  {
   "cell_type": "code",
   "execution_count": null,
   "id": "15e85512",
   "metadata": {},
   "outputs": [],
   "source": []
  }
 ],
 "metadata": {
  "kernelspec": {
   "display_name": "Python 3 (ipykernel)",
   "language": "python",
   "name": "python3"
  },
  "language_info": {
   "codemirror_mode": {
    "name": "ipython",
    "version": 3
   },
   "file_extension": ".py",
   "mimetype": "text/x-python",
   "name": "python",
   "nbconvert_exporter": "python",
   "pygments_lexer": "ipython3",
   "version": "3.9.12"
  }
 },
 "nbformat": 4,
 "nbformat_minor": 5
}
