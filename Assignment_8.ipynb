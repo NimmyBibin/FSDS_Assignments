{
 "cells": [
  {
   "cell_type": "code",
   "execution_count": null,
   "id": "b79a62b3",
   "metadata": {},
   "outputs": [],
   "source": [
    "1. Is the Python Standard Library included with PyInputPlus?\n",
    "Ans:pyInputPlus is not a part of python standard library,we have to install it seperatly using pip\n",
    "pip install pyinputplus"
   ]
  },
  {
   "cell_type": "code",
   "execution_count": null,
   "id": "e4a084b1",
   "metadata": {},
   "outputs": [],
   "source": [
    "2. Why is PyInputPlus commonly imported with import pyinputplus as pypi?\n",
    "Ans:pyip is the alias of pyInputPlus.pyip save us from typing pyinputplus each time we want to call a PyInputPlus function."
   ]
  },
  {
   "cell_type": "code",
   "execution_count": null,
   "id": "4a1de021",
   "metadata": {},
   "outputs": [],
   "source": [
    "3. How do you distinguish between inputInt() and inputFloat()?\n",
    "Ans:inputint()-Accept an integer value and return int value\n",
    "inputfloat()-accept integer/float value and returns float value."
   ]
  },
  {
   "cell_type": "code",
   "execution_count": null,
   "id": "6085700a",
   "metadata": {},
   "outputs": [],
   "source": [
    "4. Using PyInputPlus, how do you ensure that the user enters a whole number between 0 and 99? \n",
    "Ans:In inputint() function we can set the min=0 and max=99 to ensure user enter number between 0 and 99\n",
    "    pyip.inputInt(min=0,max=99)"
   ]
  },
  {
   "cell_type": "code",
   "execution_count": null,
   "id": "dab09760",
   "metadata": {},
   "outputs": [],
   "source": [
    "5. What is transferred to the keyword arguments allowRegexes and blockRegexes?\n",
    "we can use regular expression to specify whether an input is allowed or not.\n",
    "The aloowRegexes and blockRegexes keyword arguments take a list of regular expression strings to determine what the pyInputplus function will accept or regect as valid input"
   ]
  },
  {
   "cell_type": "code",
   "execution_count": null,
   "id": "4ab16912",
   "metadata": {},
   "outputs": [],
   "source": [
    "\n",
    "6. If a blank input is entered three times, what does inputStr(limit=3) do?\n",
    "Ans: it will throw RetryLimitException exception."
   ]
  },
  {
   "cell_type": "code",
   "execution_count": null,
   "id": "c7d65ffb",
   "metadata": {},
   "outputs": [],
   "source": [
    "7. If blank input is entered three times, what does inputStr(limit=3, default='hello') do?\n",
    "Ans: when we  use limit keyword arguments and also pass a default keyword argument,the function returns the default value instead of raising an exception.\n"
   ]
  },
  {
   "cell_type": "code",
   "execution_count": null,
   "id": "b639499d",
   "metadata": {},
   "outputs": [],
   "source": []
  },
  {
   "cell_type": "code",
   "execution_count": null,
   "id": "bf190562",
   "metadata": {},
   "outputs": [],
   "source": []
  }
 ],
 "metadata": {
  "kernelspec": {
   "display_name": "Python 3 (ipykernel)",
   "language": "python",
   "name": "python3"
  },
  "language_info": {
   "codemirror_mode": {
    "name": "ipython",
    "version": 3
   },
   "file_extension": ".py",
   "mimetype": "text/x-python",
   "name": "python",
   "nbconvert_exporter": "python",
   "pygments_lexer": "ipython3",
   "version": "3.9.12"
  }
 },
 "nbformat": 4,
 "nbformat_minor": 5
}
